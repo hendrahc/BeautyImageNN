{
 "cells": [
  {
   "cell_type": "markdown",
   "metadata": {},
   "source": [
    "LMDB is the database of choice when using Caffe with large datasets. This is a tutorial of how to create an LMDB database from Python. First, let's look at the pros and cons of using LMDB over HDF5."
   ]
  },
  {
   "cell_type": "code",
   "execution_count": 1,
   "metadata": {
    "collapsed": false
   },
   "outputs": [],
   "source": [
    "import numpy as np\n",
    "import lmdb\n",
    "import sys\n",
    "sys.path.append('/home/philipp/caffe/caffe-master/python') \n",
    "import caffe\n",
    "\n",
    "N = 1000\n",
    "\n",
    "# Let's pretend this is interesting data\n",
    "X = np.zeros((N, 3, 32, 32), dtype=np.uint8)\n",
    "y = np.zeros(N, dtype=np.int64)\n",
    "\n",
    "# We need to prepare the database for the size. We'll set it 10 times\n",
    "# greater than what we theoretically need. There is little drawback to\n",
    "# setting this too big. If you still run into problem after raising\n",
    "# this, you might want to try saving fewer entries in a single\n",
    "# transaction.\n",
    "map_size = X.nbytes * 10\n",
    "\n",
    "env = lmdb.open('mylmdb', map_size=map_size)\n",
    "\n",
    "with env.begin(write=True) as txn:\n",
    "    # txn is a Transaction object\n",
    "    for i in range(N):\n",
    "        datum = caffe.proto.caffe_pb2.Datum()\n",
    "        datum.channels = X.shape[1]\n",
    "        datum.height = X.shape[2]\n",
    "        datum.width = X.shape[3]\n",
    "        datum.data = X[i].tobytes()  # or .tostring() if numpy < 1.9\n",
    "        datum.label = int(y[i])\n",
    "        str_id = '{:08}'.format(i)\n",
    "\n",
    "        # The encode is only essential in Python 3\n",
    "        txn.put(str_id.encode('ascii'), datum.SerializeToString())\n"
   ]
  },
  {
   "cell_type": "markdown",
   "metadata": {},
   "source": [
    "You can also open up and inspect an existing LMDB database from Python:\n"
   ]
  },
  {
   "cell_type": "code",
   "execution_count": 2,
   "metadata": {
    "collapsed": true
   },
   "outputs": [],
   "source": [
    "env = lmdb.open('mylmdb', readonly=True)\n",
    "with env.begin() as txn:\n",
    "    raw_datum = txn.get(b'00000000')\n",
    "\n",
    "datum = caffe.proto.caffe_pb2.Datum()\n",
    "datum.ParseFromString(raw_datum)\n",
    "\n",
    "flat_x = np.fromstring(datum.data, dtype=np.uint8)\n",
    "x = flat_x.reshape(datum.channels, datum.height, datum.width)\n",
    "y = datum.label\n"
   ]
  },
  {
   "cell_type": "markdown",
   "metadata": {},
   "source": [
    "Iterating <key, value> pairs is also easy:\n"
   ]
  },
  {
   "cell_type": "code",
   "execution_count": null,
   "metadata": {
    "collapsed": false
   },
   "outputs": [],
   "source": [
    "with env.begin() as txn:\n",
    "    cursor = txn.cursor()\n",
    "    for key, value in cursor:\n",
    "        print(key, value)\n"
   ]
  },
  {
   "cell_type": "code",
   "execution_count": null,
   "metadata": {
    "collapsed": true
   },
   "outputs": [],
   "source": []
  }
 ],
 "metadata": {
  "kernelspec": {
   "display_name": "Python 2",
   "language": "python",
   "name": "python2"
  },
  "language_info": {
   "codemirror_mode": {
    "name": "ipython",
    "version": 2
   },
   "file_extension": ".py",
   "mimetype": "text/x-python",
   "name": "python",
   "nbconvert_exporter": "python",
   "pygments_lexer": "ipython2",
   "version": "2.7.6"
  },
  "widgets": {
   "state": {},
   "version": "1.1.2"
  }
 },
 "nbformat": 4,
 "nbformat_minor": 0
}
