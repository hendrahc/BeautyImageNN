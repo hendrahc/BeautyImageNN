{
 "metadata": {
  "name": "",
  "signature": "sha256:a96922a4a2453eba6073c16430fff29b217a257985a8e9e533c3647bd0d3d815"
 },
 "nbformat": 3,
 "nbformat_minor": 0,
 "worksheets": [
  {
   "cells": [
    {
     "cell_type": "heading",
     "level": 1,
     "metadata": {},
     "source": [
      "Singular Value Decomposition and Applications"
     ]
    },
    {
     "cell_type": "heading",
     "level": 3,
     "metadata": {},
     "source": [
      "Frank Cleary | <a href=\"http://www.frankcleary.com\">www.frankcleary.com</a> | See also: <a href=\"http://www.frankcleary.com/svdimage\">SVD Image Compression</a> | <a href=\"https://gist.github.com/frankcleary/a89da479d85c98f86e31\">Notebook Gist</a>"
     ]
    },
    {
     "cell_type": "heading",
     "level": 1,
     "metadata": {},
     "source": [
      "Introduction"
     ]
    },
    {
     "cell_type": "markdown",
     "metadata": {},
     "source": [
      "The singular value decomposition of a matrix has many applications. Here I'll focus on an introduction to singular value decomposition and an application in clustering articles by topic. In another notebook (<a href=\"http://nbviewer.ipython.org/gist/frankcleary/4d2bd178708503b556b0\">link</a>) I show how singular value decomposition can be used in image compression.\n",
      "\n",
      "Any matrix $A$ can be decomposed to three matrices $U$, $\\Sigma$, and $V$ such that $A = U \\Sigma V$, this is called singular value decomposition. The columns of $U$ and $V$ are orthonormal and $\\Sigma$ is diagonal. Most scientific computing packages have a function to compute the singular value decomposition, I won't go into the details of how to find $U$, $\\Sigma$ and $V$ here. Some sources write the decomposition as $A = U \\Sigma V^T$, so that their $V^T$ is our $V$. The usage in this notebook is consistent with how numpy's singular value decomposition function returns $V$."
     ]
    },
    {
     "cell_type": "heading",
     "level": 2,
     "metadata": {},
     "source": [
      "Example with a small matrix $A$:"
     ]
    },
    {
     "cell_type": "markdown",
     "metadata": {},
     "source": [
      "If $A = \\begin{bmatrix} 1 & 0 \\\\ 1 & 2 \\end{bmatrix}$\n",
      "                     \n",
      "$A$ can be written as $U \\Sigma V$ where $U$, $\\Sigma$, and $V$ are, rounded to 2 decimal places:\n",
      "\n",
      "$U = \\begin{bmatrix} -0.23 & -0.97 \\\\ -0.97 & 0.23 \\end{bmatrix}$\n",
      "                     \n",
      "$S = \\begin{bmatrix} 2.29 & 0 \\\\ 0 & 0.87 \\end{bmatrix}$\n",
      "                     \n",
      "$V = \\begin{bmatrix} -0.53 & -0.85 \\\\ -0.85 & 0.53 \\end{bmatrix}$"
     ]
    },
    {
     "cell_type": "heading",
     "level": 1,
     "metadata": {},
     "source": [
      "Interpretation"
     ]
    },
    {
     "cell_type": "markdown",
     "metadata": {},
     "source": [
      "Although the singular value decomposition has interesting properties from a linear algebra standpoint, I'm going to focus here on some of its applications and skip the derivation and geometric interpretations.\n",
      "\n",
      "Let $A$ be a $m \\times n$ matrix with column vectors $\\vec{a}_1, \\vec{a}_2, ..., \\vec{a}_n$. In the singular value decomposition of $A$, $U$ will be $m \\times m$, $\\Sigma$ will be $m \\times n$ and $V$ will be $n \\times n$. We denote the column vectors of $U$ as $\\vec{u}_1, \\vec{u}_2, ..., \\vec{u}_m$ and $V$  as $\\vec{v}_1, \\vec{v}_2, ..., \\vec{v}_n$, similarly to $A$. We'll call the values along the diagonal of $\\Sigma$ as $\\sigma_1, \\sigma_2, ...$.\n",
      "\n",
      "We have that $A = U \\Sigma V$ where:\n",
      "\n",
      "$U = \\begin{bmatrix} \\\\ \\\\ \\\\ \\vec{u}_1 & \\vec{u}_2 & \\dots & \\vec{u}_m \\\\ \\\\ \\\\ \\end{bmatrix}$\n",
      "\n",
      "$\\Sigma = \\begin{bmatrix} \\sigma_1 & 0 & \\dots \\\\ 0 &  \\sigma_2 & \\dots \\\\ \\vdots & \\vdots & \\ddots \\end{bmatrix}$\n",
      "\n",
      "$V = \\begin{bmatrix} \\\\ \\\\ \\\\ \\vec{v}_1 & \\vec{v}_2 & \\dots & \\vec{v}_n \\\\ \\\\ \\\\ \\end{bmatrix}$\n",
      "\n",
      "Because $\\Sigma$ is diagonal, the columns of $A$ can be written as:\n",
      "\n",
      "$\\vec{a}_i = \\vec{u}_1 * \\sigma_1 * V_{1,i} + \n",
      "             \\vec{u}_2 * \\sigma_2 * V_{2,i} + ... = U * \\Sigma * \\vec{v}_i$\n",
      "             \n",
      "This is equivalent to creating a vector $\\vec{w}_i$, where the elements of $\\vec{w}_i$ are the elements of $\\vec{v}_i$, weighted by the $\\sigma$'s:\n",
      "\n",
      "$\\vec{w}_i = \\begin{bmatrix} \\sigma_1V_{1,i} \\\\ \\sigma_2V_{2,i} \\\\\n",
      "           \\sigma_3V_{3,i} \\\\ \\vdots \\end{bmatrix} = \\Sigma * \\vec{v}_i$\n",
      "           \n",
      "Then $\\vec{a}_i = U * \\vec{w}_i$. That is to say that every column $\\vec{a}_i$ of $A$ is expressed by a sum over all the columns of $U$, weighted by the values in the $i^{th}$ column of $V$, and the $\\sigma$'s. By convention the order of the columns in $U$ and rows in $V$ is chosen such that the values in \n",
      "$\\Sigma = \\begin{bmatrix} \\sigma_1 & 0 & \\dots \\\\ 0 &  \\sigma_2 & \\dots \\\\ \\vdots & \\vdots & \\ddots \\end{bmatrix}$ obey $\\sigma_1 > \\sigma_2 > \\sigma_3 > ...$. This means that as a whole, the first column of $U$ and the first row of $V$ contribute more to the final values of $A$ than subsequent columns. This has applications in image compression (<a href=\"http://nbviewer.ipython.org/gist/frankcleary/4d2bd178708503b556b0\">link to another notebook</a>) and reducing the dimensionality of data by selecting the most import components."
     ]
    },
    {
     "cell_type": "heading",
     "level": 2,
     "metadata": {},
     "source": [
      "Brief discussion of dimensionality"
     ]
    },
    {
     "cell_type": "markdown",
     "metadata": {},
     "source": [
      "This section isn't required to understand how singular value decomposition is useful, but I've included it for completeness.\n",
      "\n",
      "If $A$ is $m \\times n$ ($m$ rows and $n$ columns), $U$ will be $m \\times m$, $\\Sigma$ will be $m \\times n$ and $V$ will be $n \\times n$. However, there are only $r = rank(A)$ non-zero values in $\\Sigma$, i.e. $\\sigma_1, ..., \\sigma_r \\neq 0$; $\\sigma_{r+1}, ..., \\sigma_n = 0$. Therefore columns of $U$ beyond the $r^{th}$ column and rows of $V$ beyond the $r^{th}$ row do not contribute to $A$ and are usually omitted, leaving $U$ an $m \\times r$ matrix, $\\Sigma$ an $r \\times r$ diagonal matrix and $V$ an $r \\times n$ matrix.\n",
      "\n"
     ]
    },
    {
     "cell_type": "heading",
     "level": 2,
     "metadata": {},
     "source": [
      "Example with data:"
     ]
    },
    {
     "cell_type": "markdown",
     "metadata": {},
     "source": [
      "Singular value decomposition can be used to classify similar objects (for example, news articles on a particular topic). Note above that similar $\\vec{a_i}$'s will have similar $\\vec{v_i}$'s.\n",
      "\n",
      "Imagine four blog posts, two about skiing and two about hockey. I've made up some data about five different words and the number of times they appear in each post:"
     ]
    },
    {
     "cell_type": "code",
     "collapsed": false,
     "input": [
      "import pandas as pd\n",
      "\n",
      "c_names = ['post1', 'post2', 'post3', 'post4']\n",
      "words = ['ice', 'snow', 'tahoe', 'goal', 'puck']\n",
      "post_words = pd.DataFrame([[4, 4, 6, 2],\n",
      "                           [6, 1, 0, 5],\n",
      "                           [3, 0, 0, 5],\n",
      "                           [0, 6, 5, 1],\n",
      "                           [0, 4, 5, 0]],\n",
      "                          index = words,\n",
      "                          columns = c_names)\n",
      "post_words.index.names = ['word:']\n",
      "post_words"
     ],
     "language": "python",
     "metadata": {},
     "outputs": [
      {
       "html": [
        "<div style=\"max-height:1000px;max-width:1500px;overflow:auto;\">\n",
        "<table border=\"1\" class=\"dataframe\">\n",
        "  <thead>\n",
        "    <tr style=\"text-align: right;\">\n",
        "      <th></th>\n",
        "      <th>post1</th>\n",
        "      <th>post2</th>\n",
        "      <th>post3</th>\n",
        "      <th>post4</th>\n",
        "    </tr>\n",
        "    <tr>\n",
        "      <th>word:</th>\n",
        "      <th></th>\n",
        "      <th></th>\n",
        "      <th></th>\n",
        "      <th></th>\n",
        "    </tr>\n",
        "  </thead>\n",
        "  <tbody>\n",
        "    <tr>\n",
        "      <th>ice</th>\n",
        "      <td> 4</td>\n",
        "      <td> 4</td>\n",
        "      <td> 6</td>\n",
        "      <td> 2</td>\n",
        "    </tr>\n",
        "    <tr>\n",
        "      <th>snow</th>\n",
        "      <td> 6</td>\n",
        "      <td> 1</td>\n",
        "      <td> 0</td>\n",
        "      <td> 5</td>\n",
        "    </tr>\n",
        "    <tr>\n",
        "      <th>tahoe</th>\n",
        "      <td> 3</td>\n",
        "      <td> 0</td>\n",
        "      <td> 0</td>\n",
        "      <td> 5</td>\n",
        "    </tr>\n",
        "    <tr>\n",
        "      <th>goal</th>\n",
        "      <td> 0</td>\n",
        "      <td> 6</td>\n",
        "      <td> 5</td>\n",
        "      <td> 1</td>\n",
        "    </tr>\n",
        "    <tr>\n",
        "      <th>puck</th>\n",
        "      <td> 0</td>\n",
        "      <td> 4</td>\n",
        "      <td> 5</td>\n",
        "      <td> 0</td>\n",
        "    </tr>\n",
        "  </tbody>\n",
        "</table>\n",
        "</div>"
       ],
       "metadata": {},
       "output_type": "pyout",
       "prompt_number": 1,
       "text": [
        "       post1  post2  post3  post4\n",
        "word:                            \n",
        "ice        4      4      6      2\n",
        "snow       6      1      0      5\n",
        "tahoe      3      0      0      5\n",
        "goal       0      6      5      1\n",
        "puck       0      4      5      0"
       ]
      }
     ],
     "prompt_number": 1
    },
    {
     "cell_type": "markdown",
     "metadata": {},
     "source": [
      "It looks like posts 1 and 4 pertain to skiing, and while posts 2 and 3 are about hockey."
     ]
    },
    {
     "cell_type": "markdown",
     "metadata": {},
     "source": [
      "Imagine the DataFrame <code>post_words</code> as the matrix $A$, where the entries represent the number of times a given word appears in the post. The singular value decomposition of $A$ can be calculated using numpy."
     ]
    },
    {
     "cell_type": "code",
     "collapsed": false,
     "input": [
      "import numpy as np\n",
      "\n",
      "U, sigma, V = np.linalg.svd(post_words)\n",
      "print \"V = \"\n",
      "print np.round(V, decimals=2)"
     ],
     "language": "python",
     "metadata": {},
     "outputs": [
      {
       "output_type": "stream",
       "stream": "stdout",
       "text": [
        "V = \n",
        "[[-0.4  -0.57 -0.63 -0.35]\n",
        " [-0.6   0.33  0.41 -0.6 ]\n",
        " [ 0.6  -0.41  0.32 -0.61]\n",
        " [-0.34 -0.63  0.58  0.39]]\n"
       ]
      }
     ],
     "prompt_number": 2
    },
    {
     "cell_type": "markdown",
     "metadata": {},
     "source": [
      "Recall that $\\vec{a}_i = U * \\Sigma * \\vec{v}_i$, that is each column $\\vec{v}_i$ of $V$ defines the entries in that column, $\\vec{a}_i$, of our data matrix, $A$. Let's label V with the identities of the posts using a DataFrame:"
     ]
    },
    {
     "cell_type": "code",
     "collapsed": false,
     "input": [
      "V_df = pd.DataFrame(V, columns=c_names)\n",
      "V_df"
     ],
     "language": "python",
     "metadata": {},
     "outputs": [
      {
       "html": [
        "<div style=\"max-height:1000px;max-width:1500px;overflow:auto;\">\n",
        "<table border=\"1\" class=\"dataframe\">\n",
        "  <thead>\n",
        "    <tr style=\"text-align: right;\">\n",
        "      <th></th>\n",
        "      <th>post1</th>\n",
        "      <th>post2</th>\n",
        "      <th>post3</th>\n",
        "      <th>post4</th>\n",
        "    </tr>\n",
        "  </thead>\n",
        "  <tbody>\n",
        "    <tr>\n",
        "      <th>0</th>\n",
        "      <td>-0.395634</td>\n",
        "      <td>-0.570869</td>\n",
        "      <td>-0.630100</td>\n",
        "      <td>-0.347212</td>\n",
        "    </tr>\n",
        "    <tr>\n",
        "      <th>1</th>\n",
        "      <td>-0.599836</td>\n",
        "      <td> 0.331743</td>\n",
        "      <td> 0.408279</td>\n",
        "      <td>-0.602870</td>\n",
        "    </tr>\n",
        "    <tr>\n",
        "      <th>2</th>\n",
        "      <td> 0.604001</td>\n",
        "      <td>-0.405353</td>\n",
        "      <td> 0.321932</td>\n",
        "      <td>-0.605996</td>\n",
        "    </tr>\n",
        "    <tr>\n",
        "      <th>3</th>\n",
        "      <td>-0.344752</td>\n",
        "      <td>-0.632253</td>\n",
        "      <td> 0.576751</td>\n",
        "      <td> 0.385695</td>\n",
        "    </tr>\n",
        "  </tbody>\n",
        "</table>\n",
        "</div>"
       ],
       "metadata": {},
       "output_type": "pyout",
       "prompt_number": 3,
       "text": [
        "      post1     post2     post3     post4\n",
        "0 -0.395634 -0.570869 -0.630100 -0.347212\n",
        "1 -0.599836  0.331743  0.408279 -0.602870\n",
        "2  0.604001 -0.405353  0.321932 -0.605996\n",
        "3 -0.344752 -0.632253  0.576751  0.385695"
       ]
      }
     ],
     "prompt_number": 3
    },
    {
     "cell_type": "markdown",
     "metadata": {},
     "source": [
      "Note how post1 and post4 agree closely in value in the first two rows of $V$, as do post2 and post3. This indicates that posts 1 and 4 contain similar words (in this case words relating to skiing). However, the agreement is less close in the last two rows, even among related posts. This is because the weights of the last two rows, $\\sigma_3$ and $\\sigma_4$, are small compared to $\\sigma_1$ and $\\sigma_2$. Let's look at the values for the $\\sigma$'s."
     ]
    },
    {
     "cell_type": "code",
     "collapsed": false,
     "input": [
      "sigma"
     ],
     "language": "python",
     "metadata": {},
     "outputs": [
      {
       "metadata": {},
       "output_type": "pyout",
       "prompt_number": 4,
       "text": [
        "array([ 13.3221948 ,   9.2609512 ,   2.41918664,   1.37892883])"
       ]
      }
     ],
     "prompt_number": 4
    },
    {
     "cell_type": "markdown",
     "metadata": {},
     "source": [
      "$\\sigma_1$ and $\\sigma_2$ are about an order of magnitude greater than $\\sigma_3$ and $\\sigma_4$, indicating that the values in the first two rows of $V$ are much more important than the values in the last two. In fact we could closely reproduce $A$ using just the first two rows of $V$ and first two columns of $U$, with an error of at most 1 word:"
     ]
    },
    {
     "cell_type": "code",
     "collapsed": false,
     "input": [
      "A_approx = np.matrix(U[:, :2]) * np.diag(sigma[:2]) * np.matrix(V[:2, :])\n",
      "\n",
      "print \"A calculated using only the first two components:\\n\"\n",
      "print pd.DataFrame(A_approx, index=words, columns=c_names)\n",
      "print \"\\nError from actual value:\\n\"\n",
      "print post_words - A_approx"
     ],
     "language": "python",
     "metadata": {},
     "outputs": [
      {
       "output_type": "stream",
       "stream": "stdout",
       "text": [
        "A calculated using only the first two components:\n",
        "\n",
        "          post1     post2     post3     post4\n",
        "ice    3.197084  4.818556  5.325736  2.792675\n",
        "snow   5.619793  0.588201  0.384675  5.412204\n",
        "tahoe  4.043943  0.071665 -0.123639  3.917015\n",
        "goal   0.682117  5.089628  5.762122  0.336491\n",
        "puck   0.129398  4.219523  4.799185 -0.143946\n",
        "\n",
        "Error from actual value:\n",
        "\n",
        "          post1     post2     post3     post4\n",
        "word:                                        \n",
        "ice    0.802916 -0.818556  0.674264 -0.792675\n",
        "snow   0.380207  0.411799 -0.384675 -0.412204\n",
        "tahoe -1.043943 -0.071665  0.123639  1.082985\n",
        "goal  -0.682117  0.910372 -0.762122  0.663509\n",
        "puck  -0.129398 -0.219523  0.200815  0.143946\n"
       ]
      }
     ],
     "prompt_number": 5
    },
    {
     "cell_type": "markdown",
     "metadata": {},
     "source": [
      "To help visualize the similarity between posts, $V$ can be displayed as an image. Notice how the similar posts (1 and 4, 2 and 3) have similar color values in the first two rows:"
     ]
    },
    {
     "cell_type": "code",
     "collapsed": false,
     "input": [
      "%matplotlib inline\n",
      "import matplotlib.pyplot as plt\n",
      "\n",
      "plt.imshow(V, interpolation='none')\n",
      "plt.xticks(xrange(len(c_names)))\n",
      "plt.yticks(xrange(len(words)))\n",
      "plt.ylim([len(words) - 1.5, -.5])\n",
      "ax = plt.gca()\n",
      "ax.set_xticklabels(c_names)\n",
      "ax.set_yticklabels(xrange(1, len(words) + 1))\n",
      "plt.title(\"$V$\")\n",
      "plt.colorbar();"
     ],
     "language": "python",
     "metadata": {},
     "outputs": [
      {
       "metadata": {},
       "output_type": "display_data",
       "png": "[encoded data removed]",
       "text": [
        "<matplotlib.figure.Figure at 0x3ce64e0>"
       ]
      }
     ],
     "prompt_number": 6
    },
    {
     "cell_type": "markdown",
     "metadata": {},
     "source": [
      "Another thing the singular value decomposition tells us is what most defines the different categories of posts. The skiing posts have very different values from the hockey posts in the second row of $V$, i.e. $V_{2,1} \\approx V_{2, 4}$ and $V_{2,2} \\approx V_{2, 3}$ but $V_{2,1} \\neq V_{2, 2}$.\n",
      "\n",
      "Recall from above that:\n",
      "\n",
      "$\\vec{a}_i = \\vec{u}_1 * \\sigma_1 * V_{1,i} + \n",
      "             \\vec{u}_2 * \\sigma_2 * V_{2,i} + ...$\n",
      "             \n",
      "Thus the posts differ very much in how much the values in $\\vec{u}_2$ contribute to their final word count. Here is $\\vec{u}_2$:"
     ]
    },
    {
     "cell_type": "code",
     "collapsed": false,
     "input": [
      "pd.DataFrame(U[:,1], index=words)"
     ],
     "language": "python",
     "metadata": {},
     "outputs": [
      {
       "html": [
        "<div style=\"max-height:1000px;max-width:1500px;overflow:auto;\">\n",
        "<table border=\"1\" class=\"dataframe\">\n",
        "  <thead>\n",
        "    <tr style=\"text-align: right;\">\n",
        "      <th></th>\n",
        "      <th>0</th>\n",
        "    </tr>\n",
        "  </thead>\n",
        "  <tbody>\n",
        "    <tr>\n",
        "      <th>ice</th>\n",
        "      <td> 0.018526</td>\n",
        "    </tr>\n",
        "    <tr>\n",
        "      <th>snow</th>\n",
        "      <td>-0.678291</td>\n",
        "    </tr>\n",
        "    <tr>\n",
        "      <th>tahoe</th>\n",
        "      <td>-0.519801</td>\n",
        "    </tr>\n",
        "    <tr>\n",
        "      <th>goal</th>\n",
        "      <td> 0.370263</td>\n",
        "    </tr>\n",
        "    <tr>\n",
        "      <th>puck</th>\n",
        "      <td> 0.363717</td>\n",
        "    </tr>\n",
        "  </tbody>\n",
        "</table>\n",
        "</div>"
       ],
       "metadata": {},
       "output_type": "pyout",
       "prompt_number": 7,
       "text": [
        "              0\n",
        "ice    0.018526\n",
        "snow  -0.678291\n",
        "tahoe -0.519801\n",
        "goal   0.370263\n",
        "puck   0.363717"
       ]
      }
     ],
     "prompt_number": 7
    },
    {
     "cell_type": "markdown",
     "metadata": {},
     "source": [
      "From this we can conclude that, at least in this small data set, the words 'snow' and 'tahoe' identify a different class of posts from the words 'goal' and 'puck'."
     ]
    },
    {
     "cell_type": "heading",
     "level": 1,
     "metadata": {},
     "source": [
      "Identifying similar research papers using singular value decomposition"
     ]
    },
    {
     "cell_type": "markdown",
     "metadata": {},
     "source": [
      "Moving on from the simple example above, here is an application using singular value decomposition to find similar research papers.\n",
      "\n",
      "I've collect several different papers for analysis. Unfortunately due to the sorry state of open access for scientific papers I can't share the full article text that was used for analysis. <em>Cell</em>, for example, cautions that <b>\"you may not copy, display, distribute, modify, publish, reproduce, store, transmit, post, ...\"</b> Yikes. However I did chose articles such that you should be able to download the pdf's from the publisher for free.\n",
      "\n",
      "<h3>Here are the papers included in analysis (with shortened names in parentheses):</h3>\n",
      "\n",
      "<h4>Two papers on the molecular motor ClpX, describing very similar experiments:</h4>\n",
      "<li><a href=\"http://www.cell.com/retrieve/pii/S0092867411004296\">ClpX(P) Generates Mechanical Force to Unfold and Translocate Its Protein Substrates</a> (clpx1)\n",
      "<li><a href=\"http://www.cell.com/retrieve/pii/S0092867411003138\">Single-Molecule Protein Unfolding and Translocation by an ATP-Fueled Proteolytic Machine</a> (clpx2)\n",
      "\n",
      "<h4>Papers on a very different molecular motor, <a href=\"http://www.frankcleary.com/research\">dynein</a>:</h4>\n",
      "<li><a href=\"http://www.cell.com/fulltext/S0092-8674(12)00928-2\">Lis1 Acts as a \u201cClutch\u201d between the ATPase and Microtubule-Binding Domains of the Dynein Motor</a> (dyn-lis1)\n",
      "<li><a href=\"http://www.cell.com/abstract/S0092-8674(06)00862-2\">Single-Molecule Analysis of Dynein Processivity and Stepping Behavior</a> (dyn-steps1)\n",
      "<li><a href=\"https://reck-peterson.med.harvard.edu/sites/reck-peterson.med.harvard.edu/files/publication_pdf/Qiu_2012.pdf\">Dynein achieves processive motion using both stochastic and coordinated stepping</a> (dyn-steps2)\n",
      "<li><a href=\"http://www2.mrc-lmb.cam.ac.uk/groups/cartera/pdffiles/2012_Schmidt_NSMB.pdf\">Insights into dynein motor domain function from a 3.3-A crystal structure</a> (dyn-structure)\n",
      "\n",
      "<h4>A paper on T-cell signaling:</h4>\n",
      "<li><a href=\"https://valelab.ucsf.edu/external/publications/2012jamesNature.pdf\">Biophysical mechanism of T-cell receptor triggering in a reconsistuted system</a> (tcell)"
     ]
    },
    {
     "cell_type": "heading",
     "level": 2,
     "metadata": {},
     "source": [
      "Reading in the data"
     ]
    },
    {
     "cell_type": "markdown",
     "metadata": {},
     "source": [
      "To start, we'll need to read in the word counts for each paper. I used python <a href=\"http://www.unixuser.org/~euske/python/pdfminer/\">PDFMiner</a> to convert the pdf documents to plain text. I also used a list of \"stop words\" (<a href=\"http://norm.al/2009/04/14/list-of-english-stop-words/\">link</a>), words such as \"the\", and \"and\", that appear in all English documents."
     ]
    },
    {
     "cell_type": "code",
     "collapsed": false,
     "input": [
      "with open('input/stopwords.txt') as f:\n",
      "    stopwords = f.read().strip().split(',')\n",
      "    stopwords = set(stopwords)  # use a set for fast membership testing"
     ],
     "language": "python",
     "metadata": {},
     "outputs": [],
     "prompt_number": 8
    },
    {
     "cell_type": "code",
     "collapsed": false,
     "input": [
      "import collections\n",
      "import os\n",
      "import re\n",
      "\n",
      "def word_count(fname):\n",
      "    \"\"\"Return a collections.Counter instance counting\n",
      "    the words in file fname.\"\"\"\n",
      "    \n",
      "    with open(fname) as f:\n",
      "        file_content = f.read()\n",
      "        words = re.split(r'\\W+', file_content.lower())\n",
      "        words = [word for word in words \n",
      "                 if len(word) > 3 and word not in stopwords]\n",
      "        word_count = collections.Counter(words)\n",
      "        return word_count\n",
      "        \n",
      "        \n",
      "file_list = ['input/papers/' + f for f in os.listdir('input/papers/')\n",
      "             if f.endswith('.txt')]\n",
      "word_df = pd.DataFrame()\n",
      "for fname in file_list:\n",
      "    word_counter = word_count(fname)\n",
      "    file_df = pd.DataFrame.from_dict(word_counter,\n",
      "                                     orient='index')\n",
      "    file_df.columns = [fname.replace('input/papers/', '').replace('.txt', '')]\n",
      "    # normalize word count by the total number of words in the file:\n",
      "    file_df.ix[:, 0] = file_df.values.flatten() / float(file_df.values.sum())\n",
      "    word_df = word_df.join(file_df, how='outer', )\n",
      "\n",
      "word_df = word_df.fillna(0)\n",
      "print \"Number of unique words: %s\" % len(word_df)"
     ],
     "language": "python",
     "metadata": {},
     "outputs": [
      {
       "output_type": "stream",
       "stream": "stdout",
       "text": [
        "Number of unique words: 5657\n"
       ]
      }
     ],
     "prompt_number": 9
    },
    {
     "cell_type": "markdown",
     "metadata": {},
     "source": [
      "Here are the results, sorted by the most common words in the first paper:"
     ]
    },
    {
     "cell_type": "code",
     "collapsed": false,
     "input": [
      "word_df.sort(columns=word_df.columns[0], ascending=False).head(10)"
     ],
     "language": "python",
     "metadata": {},
     "outputs": [
      {
       "html": [
        "<div style=\"max-height:1000px;max-width:1500px;overflow:auto;\">\n",
        "<table border=\"1\" class=\"dataframe\">\n",
        "  <thead>\n",
        "    <tr style=\"text-align: right;\">\n",
        "      <th></th>\n",
        "      <th>clpx1</th>\n",
        "      <th>clpx2</th>\n",
        "      <th>dyn-lis1</th>\n",
        "      <th>dyn-steps1</th>\n",
        "      <th>dyn-steps2</th>\n",
        "      <th>dyn-structure</th>\n",
        "      <th>tcell</th>\n",
        "    </tr>\n",
        "  </thead>\n",
        "  <tbody>\n",
        "    <tr>\n",
        "      <th>clpx</th>\n",
        "      <td> 0.027648</td>\n",
        "      <td> 0.006701</td>\n",
        "      <td> 0.000000</td>\n",
        "      <td> 0.000000</td>\n",
        "      <td> 0.000000</td>\n",
        "      <td> 0.000535</td>\n",
        "      <td> 0.000000</td>\n",
        "    </tr>\n",
        "    <tr>\n",
        "      <th>unfolding</th>\n",
        "      <td> 0.019516</td>\n",
        "      <td> 0.021117</td>\n",
        "      <td> 0.000000</td>\n",
        "      <td> 0.000000</td>\n",
        "      <td> 0.000000</td>\n",
        "      <td> 0.000268</td>\n",
        "      <td> 0.000000</td>\n",
        "    </tr>\n",
        "    <tr>\n",
        "      <th>force</th>\n",
        "      <td> 0.016060</td>\n",
        "      <td> 0.007919</td>\n",
        "      <td> 0.000666</td>\n",
        "      <td> 0.000170</td>\n",
        "      <td> 0.001911</td>\n",
        "      <td> 0.001071</td>\n",
        "      <td> 0.001265</td>\n",
        "    </tr>\n",
        "    <tr>\n",
        "      <th>figure</th>\n",
        "      <td> 0.012604</td>\n",
        "      <td> 0.009137</td>\n",
        "      <td> 0.011322</td>\n",
        "      <td> 0.011923</td>\n",
        "      <td> 0.001699</td>\n",
        "      <td> 0.002142</td>\n",
        "      <td> 0.001898</td>\n",
        "    </tr>\n",
        "    <tr>\n",
        "      <th>translocation</th>\n",
        "      <td> 0.011588</td>\n",
        "      <td> 0.014213</td>\n",
        "      <td> 0.000000</td>\n",
        "      <td> 0.000000</td>\n",
        "      <td> 0.000000</td>\n",
        "      <td> 0.000000</td>\n",
        "      <td> 0.001265</td>\n",
        "    </tr>\n",
        "    <tr>\n",
        "      <th>clpxp</th>\n",
        "      <td> 0.011384</td>\n",
        "      <td> 0.021117</td>\n",
        "      <td> 0.000000</td>\n",
        "      <td> 0.000000</td>\n",
        "      <td> 0.000000</td>\n",
        "      <td> 0.000000</td>\n",
        "      <td> 0.000000</td>\n",
        "    </tr>\n",
        "    <tr>\n",
        "      <th>motor</th>\n",
        "      <td> 0.009555</td>\n",
        "      <td> 0.001218</td>\n",
        "      <td> 0.009491</td>\n",
        "      <td> 0.011923</td>\n",
        "      <td> 0.018896</td>\n",
        "      <td> 0.009103</td>\n",
        "      <td> 0.000000</td>\n",
        "    </tr>\n",
        "    <tr>\n",
        "      <th>substrate</th>\n",
        "      <td> 0.008538</td>\n",
        "      <td> 0.018071</td>\n",
        "      <td> 0.000167</td>\n",
        "      <td> 0.000000</td>\n",
        "      <td> 0.000212</td>\n",
        "      <td> 0.000000</td>\n",
        "      <td> 0.000316</td>\n",
        "    </tr>\n",
        "    <tr>\n",
        "      <th>velocity</th>\n",
        "      <td> 0.008335</td>\n",
        "      <td> 0.002640</td>\n",
        "      <td> 0.005495</td>\n",
        "      <td> 0.002044</td>\n",
        "      <td> 0.000637</td>\n",
        "      <td> 0.000803</td>\n",
        "      <td> 0.000000</td>\n",
        "    </tr>\n",
        "    <tr>\n",
        "      <th>extension</th>\n",
        "      <td> 0.007522</td>\n",
        "      <td> 0.001015</td>\n",
        "      <td> 0.000000</td>\n",
        "      <td> 0.000000</td>\n",
        "      <td> 0.000000</td>\n",
        "      <td> 0.001071</td>\n",
        "      <td> 0.000000</td>\n",
        "    </tr>\n",
        "  </tbody>\n",
        "</table>\n",
        "</div>"
       ],
       "metadata": {},
       "output_type": "pyout",
       "prompt_number": 10,
       "text": [
        "                  clpx1     clpx2  dyn-lis1  dyn-steps1  dyn-steps2  \\\n",
        "clpx           0.027648  0.006701  0.000000    0.000000    0.000000   \n",
        "unfolding      0.019516  0.021117  0.000000    0.000000    0.000000   \n",
        "force          0.016060  0.007919  0.000666    0.000170    0.001911   \n",
        "figure         0.012604  0.009137  0.011322    0.011923    0.001699   \n",
        "translocation  0.011588  0.014213  0.000000    0.000000    0.000000   \n",
        "clpxp          0.011384  0.021117  0.000000    0.000000    0.000000   \n",
        "motor          0.009555  0.001218  0.009491    0.011923    0.018896   \n",
        "substrate      0.008538  0.018071  0.000167    0.000000    0.000212   \n",
        "velocity       0.008335  0.002640  0.005495    0.002044    0.000637   \n",
        "extension      0.007522  0.001015  0.000000    0.000000    0.000000   \n",
        "\n",
        "               dyn-structure     tcell  \n",
        "clpx                0.000535  0.000000  \n",
        "unfolding           0.000268  0.000000  \n",
        "force               0.001071  0.001265  \n",
        "figure              0.002142  0.001898  \n",
        "translocation       0.000000  0.001265  \n",
        "clpxp               0.000000  0.000000  \n",
        "motor               0.009103  0.000000  \n",
        "substrate           0.000000  0.000316  \n",
        "velocity            0.000803  0.000000  \n",
        "extension           0.001071  0.000000  "
       ]
      }
     ],
     "prompt_number": 10
    },
    {
     "cell_type": "markdown",
     "metadata": {},
     "source": [
      "Now to calculate the singular value decomposition of this data."
     ]
    },
    {
     "cell_type": "code",
     "collapsed": false,
     "input": [
      "U, sigma, V = np.linalg.svd(word_df)"
     ],
     "language": "python",
     "metadata": {},
     "outputs": [],
     "prompt_number": 11
    },
    {
     "cell_type": "markdown",
     "metadata": {},
     "source": [
      "Here is a look at $V$, with the column names added:"
     ]
    },
    {
     "cell_type": "code",
     "collapsed": false,
     "input": [
      "v_df = pd.DataFrame(V, columns=word_df.columns)\n",
      "v_df.apply(lambda x: np.round(x, decimals=2))"
     ],
     "language": "python",
     "metadata": {},
     "outputs": [
      {
       "html": [
        "<div style=\"max-height:1000px;max-width:1500px;overflow:auto;\">\n",
        "<table border=\"1\" class=\"dataframe\">\n",
        "  <thead>\n",
        "    <tr style=\"text-align: right;\">\n",
        "      <th></th>\n",
        "      <th>clpx1</th>\n",
        "      <th>clpx2</th>\n",
        "      <th>dyn-lis1</th>\n",
        "      <th>dyn-steps1</th>\n",
        "      <th>dyn-steps2</th>\n",
        "      <th>dyn-structure</th>\n",
        "      <th>tcell</th>\n",
        "    </tr>\n",
        "  </thead>\n",
        "  <tbody>\n",
        "    <tr>\n",
        "      <th>0</th>\n",
        "      <td>-0.19</td>\n",
        "      <td>-0.20</td>\n",
        "      <td>-0.55</td>\n",
        "      <td>-0.48</td>\n",
        "      <td>-0.53</td>\n",
        "      <td>-0.27</td>\n",
        "      <td>-0.15</td>\n",
        "    </tr>\n",
        "    <tr>\n",
        "      <th>1</th>\n",
        "      <td>-0.61</td>\n",
        "      <td>-0.59</td>\n",
        "      <td> 0.25</td>\n",
        "      <td> 0.13</td>\n",
        "      <td> 0.20</td>\n",
        "      <td>-0.03</td>\n",
        "      <td>-0.41</td>\n",
        "    </tr>\n",
        "    <tr>\n",
        "      <th>2</th>\n",
        "      <td> 0.33</td>\n",
        "      <td> 0.28</td>\n",
        "      <td>-0.09</td>\n",
        "      <td> 0.08</td>\n",
        "      <td> 0.08</td>\n",
        "      <td>-0.05</td>\n",
        "      <td>-0.89</td>\n",
        "    </tr>\n",
        "    <tr>\n",
        "      <th>3</th>\n",
        "      <td>-0.09</td>\n",
        "      <td>-0.05</td>\n",
        "      <td>-0.77</td>\n",
        "      <td> 0.32</td>\n",
        "      <td> 0.53</td>\n",
        "      <td> 0.01</td>\n",
        "      <td> 0.10</td>\n",
        "    </tr>\n",
        "    <tr>\n",
        "      <th>4</th>\n",
        "      <td> 0.07</td>\n",
        "      <td> 0.04</td>\n",
        "      <td> 0.14</td>\n",
        "      <td> 0.14</td>\n",
        "      <td> 0.14</td>\n",
        "      <td>-0.96</td>\n",
        "      <td> 0.10</td>\n",
        "    </tr>\n",
        "    <tr>\n",
        "      <th>5</th>\n",
        "      <td>-0.68</td>\n",
        "      <td> 0.73</td>\n",
        "      <td> 0.02</td>\n",
        "      <td> 0.03</td>\n",
        "      <td>-0.05</td>\n",
        "      <td>-0.02</td>\n",
        "      <td>-0.03</td>\n",
        "    </tr>\n",
        "    <tr>\n",
        "      <th>6</th>\n",
        "      <td> 0.01</td>\n",
        "      <td> 0.07</td>\n",
        "      <td> 0.09</td>\n",
        "      <td>-0.79</td>\n",
        "      <td> 0.60</td>\n",
        "      <td>-0.01</td>\n",
        "      <td> 0.00</td>\n",
        "    </tr>\n",
        "  </tbody>\n",
        "</table>\n",
        "</div>"
       ],
       "metadata": {},
       "output_type": "pyout",
       "prompt_number": 12,
       "text": [
        "   clpx1  clpx2  dyn-lis1  dyn-steps1  dyn-steps2  dyn-structure  tcell\n",
        "0  -0.19  -0.20     -0.55       -0.48       -0.53          -0.27  -0.15\n",
        "1  -0.61  -0.59      0.25        0.13        0.20          -0.03  -0.41\n",
        "2   0.33   0.28     -0.09        0.08        0.08          -0.05  -0.89\n",
        "3  -0.09  -0.05     -0.77        0.32        0.53           0.01   0.10\n",
        "4   0.07   0.04      0.14        0.14        0.14          -0.96   0.10\n",
        "5  -0.68   0.73      0.02        0.03       -0.05          -0.02  -0.03\n",
        "6   0.01   0.07      0.09       -0.79        0.60          -0.01   0.00"
       ]
      }
     ],
     "prompt_number": 12
    },
    {
     "cell_type": "markdown",
     "metadata": {},
     "source": [
      "Here are the values of $V$ represented as an image:"
     ]
    },
    {
     "cell_type": "code",
     "collapsed": false,
     "input": [
      "plt.imshow(V, interpolation='none')\n",
      "ax = plt.gca()\n",
      "plt.xticks(xrange(len(v_df.columns.values)))\n",
      "plt.yticks(xrange(len(v_df.index.values)))\n",
      "plt.title(\"$V$\")\n",
      "ax.set_xticklabels(v_df.columns.values, rotation=90)\n",
      "plt.colorbar();"
     ],
     "language": "python",
     "metadata": {},
     "outputs": [
      {
       "metadata": {},
       "output_type": "display_data",
       "png": "[encoded data removed]",
       "text": [
        "<matplotlib.figure.Figure at 0xba560b8>"
       ]
      }
     ],
     "prompt_number": 13
    },
    {
     "cell_type": "markdown",
     "metadata": {},
     "source": [
      "Note how in the above image, in the first three rows the similarities between the clpx papers is apparent, as well as between the first three dyn papers. The last dyn paper is somewhat different, but this is to be expected since it is a structure paper and the other three dyn papers involve more microscopy. In terms of comparing the papers, singular value decomposition allowed us to reduce the 5657 different words found in the papers into 6 values that are pre-sorted in order of importance!"
     ]
    },
    {
     "cell_type": "heading",
     "level": 2,
     "metadata": {},
     "source": [
      "Quantifying similarity"
     ]
    },
    {
     "cell_type": "markdown",
     "metadata": {},
     "source": [
      "Now we'll look in more detail at how similar each paper is to the others. I've defined a function to calculate the distance between two column vectors of $V$, weighted by the weights in $\\Sigma$. For $\\vec{v}_i$ and $\\vec{v}_j$ the function calculates $\\|\\Sigma * (\\vec{v}_i - \\vec{v}_j)\\|$. This function is applied to every pairwise combination of $\\vec{v}_i$ and $\\vec{v}_j$, giving a metric of how similar two papers are (smaller values are more similar)."
     ]
    },
    {
     "cell_type": "code",
     "collapsed": false,
     "input": [
      "def dist(col1, col2, sigma=sigma):\n",
      "    \"\"\"Return the norm of (col1 - col2), where the differences in \n",
      "    each dimension are wighted by the values in sigma.\"\"\"\n",
      "    return np.linalg.norm(np.array(col1 - col2) * sigma)\n",
      "\n",
      "dist_df = pd.DataFrame(index=v_df.columns, columns=v_df.columns)\n",
      "for cname in v_df.columns:\n",
      "    dist_df[cname] = v_df.apply(lambda x: dist(v_df[cname].values, x.values))\n",
      "plt.imshow(dist_df.values, interpolation='none')\n",
      "ax = plt.gca()\n",
      "plt.xticks(xrange(len(dist_df.columns.values)))\n",
      "plt.yticks(xrange(len(dist_df.index.values)))\n",
      "ax.set_xticklabels(dist_df.columns.values, rotation=90)\n",
      "ax.set_yticklabels(dist_df.index.values)\n",
      "plt.title(\"Similarity between papers\\nLower value = more similar\")\n",
      "plt.colorbar()\n",
      "dist_df"
     ],
     "language": "python",
     "metadata": {},
     "outputs": [
      {
       "html": [
        "<div style=\"max-height:1000px;max-width:1500px;overflow:auto;\">\n",
        "<table border=\"1\" class=\"dataframe\">\n",
        "  <thead>\n",
        "    <tr style=\"text-align: right;\">\n",
        "      <th></th>\n",
        "      <th>clpx1</th>\n",
        "      <th>clpx2</th>\n",
        "      <th>dyn-lis1</th>\n",
        "      <th>dyn-steps1</th>\n",
        "      <th>dyn-steps2</th>\n",
        "      <th>dyn-structure</th>\n",
        "      <th>tcell</th>\n",
        "    </tr>\n",
        "  </thead>\n",
        "  <tbody>\n",
        "    <tr>\n",
        "      <th>clpx1</th>\n",
        "      <td> 0.000000</td>\n",
        "      <td> 0.044530</td>\n",
        "      <td> 0.091754</td>\n",
        "      <td> 0.077374</td>\n",
        "      <td> 0.086122</td>\n",
        "      <td> 0.074950</td>\n",
        "      <td> 0.082144</td>\n",
        "    </tr>\n",
        "    <tr>\n",
        "      <th>clpx2</th>\n",
        "      <td> 0.044530</td>\n",
        "      <td> 0.000000</td>\n",
        "      <td> 0.090552</td>\n",
        "      <td> 0.075129</td>\n",
        "      <td> 0.083906</td>\n",
        "      <td> 0.072627</td>\n",
        "      <td> 0.079379</td>\n",
        "    </tr>\n",
        "    <tr>\n",
        "      <th>dyn-lis1</th>\n",
        "      <td> 0.091754</td>\n",
        "      <td> 0.090552</td>\n",
        "      <td> 0.000000</td>\n",
        "      <td> 0.065258</td>\n",
        "      <td> 0.071804</td>\n",
        "      <td> 0.079625</td>\n",
        "      <td> 0.096965</td>\n",
        "    </tr>\n",
        "    <tr>\n",
        "      <th>dyn-steps1</th>\n",
        "      <td> 0.077374</td>\n",
        "      <td> 0.075129</td>\n",
        "      <td> 0.065258</td>\n",
        "      <td> 0.000000</td>\n",
        "      <td> 0.042777</td>\n",
        "      <td> 0.068084</td>\n",
        "      <td> 0.086867</td>\n",
        "    </tr>\n",
        "    <tr>\n",
        "      <th>dyn-steps2</th>\n",
        "      <td> 0.086122</td>\n",
        "      <td> 0.083906</td>\n",
        "      <td> 0.071804</td>\n",
        "      <td> 0.042777</td>\n",
        "      <td> 0.000000</td>\n",
        "      <td> 0.073860</td>\n",
        "      <td> 0.093479</td>\n",
        "    </tr>\n",
        "    <tr>\n",
        "      <th>dyn-structure</th>\n",
        "      <td> 0.074950</td>\n",
        "      <td> 0.072627</td>\n",
        "      <td> 0.079625</td>\n",
        "      <td> 0.068084</td>\n",
        "      <td> 0.073860</td>\n",
        "      <td> 0.000000</td>\n",
        "      <td> 0.081524</td>\n",
        "    </tr>\n",
        "    <tr>\n",
        "      <th>tcell</th>\n",
        "      <td> 0.082144</td>\n",
        "      <td> 0.079379</td>\n",
        "      <td> 0.096965</td>\n",
        "      <td> 0.086867</td>\n",
        "      <td> 0.093479</td>\n",
        "      <td> 0.081524</td>\n",
        "      <td> 0.000000</td>\n",
        "    </tr>\n",
        "  </tbody>\n",
        "</table>\n",
        "</div>"
       ],
       "metadata": {},
       "output_type": "pyout",
       "prompt_number": 14,
       "text": [
        "                  clpx1     clpx2  dyn-lis1  dyn-steps1  dyn-steps2  \\\n",
        "clpx1          0.000000  0.044530  0.091754    0.077374    0.086122   \n",
        "clpx2          0.044530  0.000000  0.090552    0.075129    0.083906   \n",
        "dyn-lis1       0.091754  0.090552  0.000000    0.065258    0.071804   \n",
        "dyn-steps1     0.077374  0.075129  0.065258    0.000000    0.042777   \n",
        "dyn-steps2     0.086122  0.083906  0.071804    0.042777    0.000000   \n",
        "dyn-structure  0.074950  0.072627  0.079625    0.068084    0.073860   \n",
        "tcell          0.082144  0.079379  0.096965    0.086867    0.093479   \n",
        "\n",
        "               dyn-structure     tcell  \n",
        "clpx1               0.074950  0.082144  \n",
        "clpx2               0.072627  0.079379  \n",
        "dyn-lis1            0.079625  0.096965  \n",
        "dyn-steps1          0.068084  0.086867  \n",
        "dyn-steps2          0.073860  0.093479  \n",
        "dyn-structure       0.000000  0.081524  \n",
        "tcell               0.081524  0.000000  "
       ]
      },
      {
       "metadata": {},
       "output_type": "display_data",
       "png": "[encoded data removed]",
       "text": [
        "<matplotlib.figure.Figure at 0x3cd1e80>"
       ]
      }
     ],
     "prompt_number": 14
    },
    {
     "cell_type": "markdown",
     "metadata": {},
     "source": [
      "The two clpx papers and the two dyn-steps are most similar to each other, as expected, while all the dyn paper do bear some similarity to each other. For a quicker readout, I've grouped the data into three similarity levels (in practice this could be done automatically with a clustering algorithm)."
     ]
    },
    {
     "cell_type": "code",
     "collapsed": false,
     "input": [
      "levels = [0.06, 0.075]\n",
      "binned_df = dist_df.copy()\n",
      "binned_df[(dist_df <= levels[0]) & (dist_df > 0)] = 1\n",
      "binned_df[(dist_df <= levels[1]) & (dist_df > levels[0])] = 2\n",
      "binned_df[(dist_df < 1) & (dist_df > levels[1])] = 3\n",
      "plt.imshow(binned_df.values, interpolation='none')\n",
      "ax = plt.gca()\n",
      "plt.xticks(xrange(len(binned_df.columns.values)))\n",
      "plt.yticks(xrange(len(binned_df.index.values)))\n",
      "ax.set_xticklabels(binned_df.columns.values, rotation=90)\n",
      "ax.set_yticklabels(binned_df.index.values)\n",
      "plt.title(\"Similarity between papers\\nLower value = more similar\")\n",
      "plt.colorbar();"
     ],
     "language": "python",
     "metadata": {},
     "outputs": [
      {
       "metadata": {},
       "output_type": "display_data",
       "png": "[encoded data removed]",
       "text": [
        "<matplotlib.figure.Figure at 0x3cd1b00>"
       ]
      }
     ],
     "prompt_number": 15
    },
    {
     "cell_type": "markdown",
     "metadata": {},
     "source": [
      "Finally, let's output a list for each paper of the other papers, sorted in order of decreasing similarity:"
     ]
    },
    {
     "cell_type": "code",
     "collapsed": false,
     "input": [
      "for paper in dist_df.columns:\n",
      "    sim_papers_df = dist_df.sort(columns=paper)[paper]\n",
      "    sim_papers = sim_papers_df.drop([paper]).index\n",
      "    print 'Papers most similar to ' + paper + ':'\n",
      "    print ', '.join(sim_papers)\n",
      "    print '\\n'"
     ],
     "language": "python",
     "metadata": {},
     "outputs": [
      {
       "output_type": "stream",
       "stream": "stdout",
       "text": [
        "Papers most similar to clpx1:\n",
        "clpx2, dyn-structure, dyn-steps1, tcell, dyn-steps2, dyn-lis1\n",
        "\n",
        "\n",
        "Papers most similar to clpx2:\n",
        "clpx1, dyn-structure, dyn-steps1, tcell, dyn-steps2, dyn-lis1\n",
        "\n",
        "\n",
        "Papers most similar to dyn-lis1:\n",
        "dyn-steps1, dyn-steps2, dyn-structure, clpx2, clpx1, tcell\n",
        "\n",
        "\n",
        "Papers most similar to dyn-steps1:\n",
        "dyn-steps2, dyn-lis1, dyn-structure, clpx2, clpx1, tcell\n",
        "\n",
        "\n",
        "Papers most similar to dyn-steps2:\n",
        "dyn-steps1, dyn-lis1, dyn-structure, clpx2, clpx1, tcell\n",
        "\n",
        "\n",
        "Papers most similar to dyn-structure:\n",
        "dyn-steps1, clpx2, dyn-steps2, clpx1, dyn-lis1, tcell\n",
        "\n",
        "\n",
        "Papers most similar to tcell:\n",
        "clpx2, dyn-structure, clpx1, dyn-steps1, dyn-steps2, dyn-lis1\n",
        "\n",
        "\n"
       ]
      }
     ],
     "prompt_number": 16
    },
    {
     "cell_type": "heading",
     "level": 3,
     "metadata": {},
     "source": [
      "See also: <a href=\"http://www.frankcleary.com/svdimage\">SVD Image Compression</a>"
     ]
    }
   ],
   "metadata": {}
  }
 ]
}